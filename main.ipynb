{
 "cells": [
  {
   "cell_type": "code",
   "execution_count": 34,
   "metadata": {},
   "outputs": [
    {
     "data": {
      "text/html": [
       "<div>\n",
       "<style scoped>\n",
       "    .dataframe tbody tr th:only-of-type {\n",
       "        vertical-align: middle;\n",
       "    }\n",
       "\n",
       "    .dataframe tbody tr th {\n",
       "        vertical-align: top;\n",
       "    }\n",
       "\n",
       "    .dataframe thead th {\n",
       "        text-align: right;\n",
       "    }\n",
       "</style>\n",
       "<table border=\"1\" class=\"dataframe\">\n",
       "  <thead>\n",
       "    <tr style=\"text-align: right;\">\n",
       "      <th></th>\n",
       "      <th>Cliente</th>\n",
       "      <th>CPF/CNPJ</th>\n",
       "      <th>CEP</th>\n",
       "      <th>Endereço</th>\n",
       "      <th>Bairro</th>\n",
       "      <th>Municipio</th>\n",
       "      <th>UF</th>\n",
       "      <th>Inscricao Estadual</th>\n",
       "      <th>Descrição</th>\n",
       "      <th>Quantidade</th>\n",
       "      <th>Valor Unitario</th>\n",
       "      <th>Valor Total</th>\n",
       "    </tr>\n",
       "  </thead>\n",
       "  <tbody>\n",
       "    <tr>\n",
       "      <th>0</th>\n",
       "      <td>Valentina Márcia Melissa da Cunha</td>\n",
       "      <td>25379574076</td>\n",
       "      <td>73402036</td>\n",
       "      <td>Módulo Módulo 12</td>\n",
       "      <td>Estância Mestre D'Armas V (Planaltina)</td>\n",
       "      <td>Brasília</td>\n",
       "      <td>DF</td>\n",
       "      <td>213873</td>\n",
       "      <td>Nota referente aos serviços prestados/produtos...</td>\n",
       "      <td>3</td>\n",
       "      <td>273</td>\n",
       "      <td>819</td>\n",
       "    </tr>\n",
       "    <tr>\n",
       "      <th>1</th>\n",
       "      <td>Lara Benedita Josefa Drumond</td>\n",
       "      <td>30227643160</td>\n",
       "      <td>78730170</td>\n",
       "      <td>Avenida Manoel de Araújo Piau</td>\n",
       "      <td>Jardim Belo Panorama</td>\n",
       "      <td>Rondonópolis</td>\n",
       "      <td>MT</td>\n",
       "      <td>194139</td>\n",
       "      <td>Nota referente aos serviços prestados/produtos...</td>\n",
       "      <td>6</td>\n",
       "      <td>730</td>\n",
       "      <td>4380</td>\n",
       "    </tr>\n",
       "    <tr>\n",
       "      <th>2</th>\n",
       "      <td>Silvana Melissa da Paz</td>\n",
       "      <td>36636402806</td>\n",
       "      <td>69308220</td>\n",
       "      <td>Rua Madre Rosa</td>\n",
       "      <td>Treze de Setembro</td>\n",
       "      <td>Boa Vista</td>\n",
       "      <td>RR</td>\n",
       "      <td>203703</td>\n",
       "      <td>Nota referente aos serviços prestados/produtos...</td>\n",
       "      <td>2</td>\n",
       "      <td>389</td>\n",
       "      <td>778</td>\n",
       "    </tr>\n",
       "  </tbody>\n",
       "</table>\n",
       "</div>"
      ],
      "text/plain": [
       "                             Cliente     CPF/CNPJ       CEP  \\\n",
       "0  Valentina Márcia Melissa da Cunha  25379574076  73402036   \n",
       "1       Lara Benedita Josefa Drumond  30227643160  78730170   \n",
       "2             Silvana Melissa da Paz  36636402806  69308220   \n",
       "\n",
       "                        Endereço                                  Bairro  \\\n",
       "0               Módulo Módulo 12  Estância Mestre D'Armas V (Planaltina)   \n",
       "1  Avenida Manoel de Araújo Piau                    Jardim Belo Panorama   \n",
       "2                 Rua Madre Rosa                       Treze de Setembro   \n",
       "\n",
       "      Municipio  UF  Inscricao Estadual  \\\n",
       "0      Brasília  DF              213873   \n",
       "1  Rondonópolis  MT              194139   \n",
       "2     Boa Vista  RR              203703   \n",
       "\n",
       "                                           Descrição  Quantidade  \\\n",
       "0  Nota referente aos serviços prestados/produtos...           3   \n",
       "1  Nota referente aos serviços prestados/produtos...           6   \n",
       "2  Nota referente aos serviços prestados/produtos...           2   \n",
       "\n",
       "   Valor Unitario  Valor Total  \n",
       "0             273          819  \n",
       "1             730         4380  \n",
       "2             389          778  "
      ]
     },
     "execution_count": 34,
     "metadata": {},
     "output_type": "execute_result"
    }
   ],
   "source": [
    "from selenium import webdriver\n",
    "from selenium.webdriver.chrome.service import Service\n",
    "from selenium.webdriver.common.by import By\n",
    "from webdriver_manager.chrome import ChromeDriverManager\n",
    "import os\n",
    "import pandas as pd\n",
    "import time\n",
    "\n",
    "df_notas = pd.read_excel('./NotasEmitir.xlsx')\n",
    "df_notas.head(3)"
   ]
  },
  {
   "cell_type": "markdown",
   "metadata": {},
   "source": [
    "## Tratando dados"
   ]
  },
  {
   "cell_type": "code",
   "execution_count": 35,
   "metadata": {},
   "outputs": [
    {
     "data": {
      "text/html": [
       "<div>\n",
       "<style scoped>\n",
       "    .dataframe tbody tr th:only-of-type {\n",
       "        vertical-align: middle;\n",
       "    }\n",
       "\n",
       "    .dataframe tbody tr th {\n",
       "        vertical-align: top;\n",
       "    }\n",
       "\n",
       "    .dataframe thead th {\n",
       "        text-align: right;\n",
       "    }\n",
       "</style>\n",
       "<table border=\"1\" class=\"dataframe\">\n",
       "  <thead>\n",
       "    <tr style=\"text-align: right;\">\n",
       "      <th></th>\n",
       "      <th>nome</th>\n",
       "      <th>endereco</th>\n",
       "      <th>bairro</th>\n",
       "      <th>municipio</th>\n",
       "      <th>cep</th>\n",
       "      <th>uf</th>\n",
       "      <th>cnpj</th>\n",
       "      <th>inscricao</th>\n",
       "      <th>descricao</th>\n",
       "      <th>quantidade</th>\n",
       "      <th>valor_unitario</th>\n",
       "      <th>total</th>\n",
       "    </tr>\n",
       "  </thead>\n",
       "  <tbody>\n",
       "    <tr>\n",
       "      <th>0</th>\n",
       "      <td>Valentina Márcia Melissa da Cunha</td>\n",
       "      <td>25379574076</td>\n",
       "      <td>73402036</td>\n",
       "      <td>Módulo Módulo 12</td>\n",
       "      <td>Estância Mestre D'Armas V (Planaltina)</td>\n",
       "      <td>Brasília</td>\n",
       "      <td>DF</td>\n",
       "      <td>213873</td>\n",
       "      <td>Nota referente aos serviços prestados/produtos...</td>\n",
       "      <td>3</td>\n",
       "      <td>273</td>\n",
       "      <td>819</td>\n",
       "    </tr>\n",
       "  </tbody>\n",
       "</table>\n",
       "</div>"
      ],
      "text/plain": [
       "                                nome     endereco    bairro         municipio  \\\n",
       "0  Valentina Márcia Melissa da Cunha  25379574076  73402036  Módulo Módulo 12   \n",
       "\n",
       "                                      cep        uf cnpj  inscricao  \\\n",
       "0  Estância Mestre D'Armas V (Planaltina)  Brasília   DF     213873   \n",
       "\n",
       "                                           descricao  quantidade  \\\n",
       "0  Nota referente aos serviços prestados/produtos...           3   \n",
       "\n",
       "   valor_unitario  total  \n",
       "0             273    819  "
      ]
     },
     "execution_count": 35,
     "metadata": {},
     "output_type": "execute_result"
    }
   ],
   "source": [
    "cols = {}\n",
    "campos = [\n",
    "    'nome',\n",
    "    'endereco',\n",
    "    'bairro',\n",
    "    'municipio',\n",
    "    'cep',\n",
    "    'uf',\n",
    "    'cnpj',\n",
    "    'inscricao',\n",
    "    'descricao',\n",
    "    'quantidade',\n",
    "    'valor_unitario',\n",
    "    'total'\n",
    "]\n",
    "for i, col in enumerate(df_notas):\n",
    "    cols[col] = campos[i]\n",
    "\n",
    "df_notas.rename(columns=cols, inplace=True)\n",
    "df_notas.head(1)"
   ]
  },
  {
   "cell_type": "code",
   "execution_count": 36,
   "metadata": {},
   "outputs": [
    {
     "data": {
      "text/plain": [
       "(30, 12)"
      ]
     },
     "execution_count": 36,
     "metadata": {},
     "output_type": "execute_result"
    }
   ],
   "source": [
    "df_notas.shape"
   ]
  },
  {
   "cell_type": "code",
   "execution_count": 37,
   "metadata": {},
   "outputs": [
    {
     "name": "stdout",
     "output_type": "stream",
     "text": [
      "<class 'pandas.core.frame.DataFrame'>\n",
      "RangeIndex: 30 entries, 0 to 29\n",
      "Data columns (total 12 columns):\n",
      " #   Column          Non-Null Count  Dtype \n",
      "---  ------          --------------  ----- \n",
      " 0   nome            30 non-null     object\n",
      " 1   endereco        30 non-null     int64 \n",
      " 2   bairro          30 non-null     int64 \n",
      " 3   municipio       30 non-null     object\n",
      " 4   cep             30 non-null     object\n",
      " 5   uf              30 non-null     object\n",
      " 6   cnpj            30 non-null     object\n",
      " 7   inscricao       30 non-null     int64 \n",
      " 8   descricao       30 non-null     object\n",
      " 9   quantidade      30 non-null     int64 \n",
      " 10  valor_unitario  30 non-null     int64 \n",
      " 11  total           30 non-null     int64 \n",
      "dtypes: int64(6), object(6)\n",
      "memory usage: 2.9+ KB\n"
     ]
    }
   ],
   "source": [
    "df_notas.info()"
   ]
  },
  {
   "cell_type": "code",
   "execution_count": 38,
   "metadata": {},
   "outputs": [
    {
     "data": {
      "text/plain": [
       "nome              0\n",
       "endereco          0\n",
       "bairro            0\n",
       "municipio         0\n",
       "cep               0\n",
       "uf                0\n",
       "cnpj              0\n",
       "inscricao         0\n",
       "descricao         0\n",
       "quantidade        0\n",
       "valor_unitario    0\n",
       "total             0\n",
       "dtype: int64"
      ]
     },
     "execution_count": 38,
     "metadata": {},
     "output_type": "execute_result"
    }
   ],
   "source": [
    "df_notas.isnull().sum()"
   ]
  },
  {
   "cell_type": "markdown",
   "metadata": {},
   "source": [
    "## Automação"
   ]
  },
  {
   "cell_type": "code",
   "execution_count": 28,
   "metadata": {},
   "outputs": [],
   "source": [
    "service = Service(ChromeDriverManager().install())\n",
    "nav = webdriver.Chrome(service=service)"
   ]
  },
  {
   "cell_type": "code",
   "execution_count": 52,
   "metadata": {},
   "outputs": [],
   "source": [
    "# entrar na página de login\n",
    "caminho = os.getcwd()\n",
    "arquivo = caminho + r'\\\\login.html'\n",
    "nav.get(arquivo)"
   ]
  },
  {
   "cell_type": "code",
   "execution_count": 53,
   "metadata": {},
   "outputs": [],
   "source": [
    "# fazer login\n",
    "login = nav.find_element(By.XPATH, '/html/body/div/form/input[1]')\n",
    "login.send_keys('admin')\n",
    "senha = nav.find_element(By.XPATH, '/html/body/div/form/input[2]')\n",
    "senha.send_keys('admin')\n",
    "bt_login = nav.find_element(By.XPATH, '/html/body/div/form/button')\n",
    "bt_login.click()"
   ]
  },
  {
   "cell_type": "code",
   "execution_count": 61,
   "metadata": {},
   "outputs": [],
   "source": [
    "# preencher formularios\n",
    "for col in df_notas:\n",
    "    element = nav.find_element(By.NAME, col)"
   ]
  }
 ],
 "metadata": {
  "kernelspec": {
   "display_name": "Python 3",
   "language": "python",
   "name": "python3"
  },
  "language_info": {
   "codemirror_mode": {
    "name": "ipython",
    "version": 3
   },
   "file_extension": ".py",
   "mimetype": "text/x-python",
   "name": "python",
   "nbconvert_exporter": "python",
   "pygments_lexer": "ipython3",
   "version": "3.11.4"
  }
 },
 "nbformat": 4,
 "nbformat_minor": 2
}
