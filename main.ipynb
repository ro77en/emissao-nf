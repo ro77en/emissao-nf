{
 "cells": [
  {
   "cell_type": "code",
   "execution_count": 114,
   "metadata": {},
   "outputs": [
    {
     "data": {
      "text/html": [
       "<div>\n",
       "<style scoped>\n",
       "    .dataframe tbody tr th:only-of-type {\n",
       "        vertical-align: middle;\n",
       "    }\n",
       "\n",
       "    .dataframe tbody tr th {\n",
       "        vertical-align: top;\n",
       "    }\n",
       "\n",
       "    .dataframe thead th {\n",
       "        text-align: right;\n",
       "    }\n",
       "</style>\n",
       "<table border=\"1\" class=\"dataframe\">\n",
       "  <thead>\n",
       "    <tr style=\"text-align: right;\">\n",
       "      <th></th>\n",
       "      <th>Cliente</th>\n",
       "      <th>CPF/CNPJ</th>\n",
       "      <th>CEP</th>\n",
       "      <th>Endereço</th>\n",
       "      <th>Bairro</th>\n",
       "      <th>Municipio</th>\n",
       "      <th>UF</th>\n",
       "      <th>Inscricao Estadual</th>\n",
       "      <th>Descrição</th>\n",
       "      <th>Quantidade</th>\n",
       "      <th>Valor Unitario</th>\n",
       "      <th>Valor Total</th>\n",
       "    </tr>\n",
       "  </thead>\n",
       "  <tbody>\n",
       "    <tr>\n",
       "      <th>0</th>\n",
       "      <td>Valentina Márcia Melissa da Cunha</td>\n",
       "      <td>25379574076</td>\n",
       "      <td>73402036</td>\n",
       "      <td>Módulo Módulo 12</td>\n",
       "      <td>Estância Mestre D'Armas V (Planaltina)</td>\n",
       "      <td>Brasília</td>\n",
       "      <td>DF</td>\n",
       "      <td>213873</td>\n",
       "      <td>Nota referente aos serviços prestados/produtos...</td>\n",
       "      <td>3</td>\n",
       "      <td>273</td>\n",
       "      <td>819</td>\n",
       "    </tr>\n",
       "    <tr>\n",
       "      <th>1</th>\n",
       "      <td>Lara Benedita Josefa Drumond</td>\n",
       "      <td>30227643160</td>\n",
       "      <td>78730170</td>\n",
       "      <td>Avenida Manoel de Araújo Piau</td>\n",
       "      <td>Jardim Belo Panorama</td>\n",
       "      <td>Rondonópolis</td>\n",
       "      <td>MT</td>\n",
       "      <td>194139</td>\n",
       "      <td>Nota referente aos serviços prestados/produtos...</td>\n",
       "      <td>6</td>\n",
       "      <td>730</td>\n",
       "      <td>4380</td>\n",
       "    </tr>\n",
       "    <tr>\n",
       "      <th>2</th>\n",
       "      <td>Silvana Melissa da Paz</td>\n",
       "      <td>36636402806</td>\n",
       "      <td>69308220</td>\n",
       "      <td>Rua Madre Rosa</td>\n",
       "      <td>Treze de Setembro</td>\n",
       "      <td>Boa Vista</td>\n",
       "      <td>RR</td>\n",
       "      <td>203703</td>\n",
       "      <td>Nota referente aos serviços prestados/produtos...</td>\n",
       "      <td>2</td>\n",
       "      <td>389</td>\n",
       "      <td>778</td>\n",
       "    </tr>\n",
       "  </tbody>\n",
       "</table>\n",
       "</div>"
      ],
      "text/plain": [
       "                             Cliente     CPF/CNPJ       CEP  \\\n",
       "0  Valentina Márcia Melissa da Cunha  25379574076  73402036   \n",
       "1       Lara Benedita Josefa Drumond  30227643160  78730170   \n",
       "2             Silvana Melissa da Paz  36636402806  69308220   \n",
       "\n",
       "                        Endereço                                  Bairro  \\\n",
       "0               Módulo Módulo 12  Estância Mestre D'Armas V (Planaltina)   \n",
       "1  Avenida Manoel de Araújo Piau                    Jardim Belo Panorama   \n",
       "2                 Rua Madre Rosa                       Treze de Setembro   \n",
       "\n",
       "      Municipio  UF  Inscricao Estadual  \\\n",
       "0      Brasília  DF              213873   \n",
       "1  Rondonópolis  MT              194139   \n",
       "2     Boa Vista  RR              203703   \n",
       "\n",
       "                                           Descrição  Quantidade  \\\n",
       "0  Nota referente aos serviços prestados/produtos...           3   \n",
       "1  Nota referente aos serviços prestados/produtos...           6   \n",
       "2  Nota referente aos serviços prestados/produtos...           2   \n",
       "\n",
       "   Valor Unitario  Valor Total  \n",
       "0             273          819  \n",
       "1             730         4380  \n",
       "2             389          778  "
      ]
     },
     "execution_count": 114,
     "metadata": {},
     "output_type": "execute_result"
    }
   ],
   "source": [
    "from selenium import webdriver\n",
    "from selenium.webdriver.chrome.service import Service\n",
    "from selenium.webdriver.common.by import By\n",
    "from selenium.webdriver.support.ui import Select\n",
    "from webdriver_manager.chrome import ChromeDriverManager\n",
    "import os\n",
    "import pandas as pd\n",
    "import time\n",
    "\n",
    "df_notas = pd.read_excel('./NotasEmitir.xlsx')\n",
    "df_notas.head(3)"
   ]
  },
  {
   "cell_type": "markdown",
   "metadata": {},
   "source": [
    "## Tratando dados"
   ]
  },
  {
   "cell_type": "code",
   "execution_count": 115,
   "metadata": {},
   "outputs": [
    {
     "data": {
      "text/html": [
       "<div>\n",
       "<style scoped>\n",
       "    .dataframe tbody tr th:only-of-type {\n",
       "        vertical-align: middle;\n",
       "    }\n",
       "\n",
       "    .dataframe tbody tr th {\n",
       "        vertical-align: top;\n",
       "    }\n",
       "\n",
       "    .dataframe thead th {\n",
       "        text-align: right;\n",
       "    }\n",
       "</style>\n",
       "<table border=\"1\" class=\"dataframe\">\n",
       "  <thead>\n",
       "    <tr style=\"text-align: right;\">\n",
       "      <th></th>\n",
       "      <th>nome</th>\n",
       "      <th>cnpj</th>\n",
       "      <th>cep</th>\n",
       "      <th>endereco</th>\n",
       "      <th>bairro</th>\n",
       "      <th>municipio</th>\n",
       "      <th>uf</th>\n",
       "      <th>inscricao</th>\n",
       "      <th>descricao</th>\n",
       "      <th>quantidade</th>\n",
       "      <th>valor_unitario</th>\n",
       "      <th>total</th>\n",
       "    </tr>\n",
       "  </thead>\n",
       "  <tbody>\n",
       "    <tr>\n",
       "      <th>0</th>\n",
       "      <td>Valentina Márcia Melissa da Cunha</td>\n",
       "      <td>25379574076</td>\n",
       "      <td>73402036</td>\n",
       "      <td>Módulo Módulo 12</td>\n",
       "      <td>Estância Mestre D'Armas V (Planaltina)</td>\n",
       "      <td>Brasília</td>\n",
       "      <td>DF</td>\n",
       "      <td>213873</td>\n",
       "      <td>Nota referente aos serviços prestados/produtos...</td>\n",
       "      <td>3</td>\n",
       "      <td>273</td>\n",
       "      <td>819</td>\n",
       "    </tr>\n",
       "  </tbody>\n",
       "</table>\n",
       "</div>"
      ],
      "text/plain": [
       "                                nome         cnpj       cep          endereco  \\\n",
       "0  Valentina Márcia Melissa da Cunha  25379574076  73402036  Módulo Módulo 12   \n",
       "\n",
       "                                   bairro municipio  uf  inscricao  \\\n",
       "0  Estância Mestre D'Armas V (Planaltina)  Brasília  DF     213873   \n",
       "\n",
       "                                           descricao  quantidade  \\\n",
       "0  Nota referente aos serviços prestados/produtos...           3   \n",
       "\n",
       "   valor_unitario  total  \n",
       "0             273    819  "
      ]
     },
     "execution_count": 115,
     "metadata": {},
     "output_type": "execute_result"
    }
   ],
   "source": [
    "cols = {}\n",
    "campos = [\n",
    "    'nome',\n",
    "    'cnpj',\n",
    "    'cep',\n",
    "    'endereco',\n",
    "    'bairro',\n",
    "    'municipio',\n",
    "    'uf',\n",
    "    'inscricao',\n",
    "    'descricao',\n",
    "    'quantidade',\n",
    "    'valor_unitario',\n",
    "    'total'\n",
    "]\n",
    "for i, col in enumerate(df_notas):\n",
    "    cols[col] = campos[i]\n",
    "\n",
    "df_notas.rename(columns=cols, inplace=True)\n",
    "df_notas.head(1)"
   ]
  },
  {
   "cell_type": "code",
   "execution_count": 116,
   "metadata": {},
   "outputs": [
    {
     "data": {
      "text/plain": [
       "(30, 12)"
      ]
     },
     "execution_count": 116,
     "metadata": {},
     "output_type": "execute_result"
    }
   ],
   "source": [
    "df_notas.shape"
   ]
  },
  {
   "cell_type": "code",
   "execution_count": 117,
   "metadata": {},
   "outputs": [
    {
     "name": "stdout",
     "output_type": "stream",
     "text": [
      "<class 'pandas.core.frame.DataFrame'>\n",
      "RangeIndex: 30 entries, 0 to 29\n",
      "Data columns (total 12 columns):\n",
      " #   Column          Non-Null Count  Dtype \n",
      "---  ------          --------------  ----- \n",
      " 0   nome            30 non-null     object\n",
      " 1   cnpj            30 non-null     int64 \n",
      " 2   cep             30 non-null     int64 \n",
      " 3   endereco        30 non-null     object\n",
      " 4   bairro          30 non-null     object\n",
      " 5   municipio       30 non-null     object\n",
      " 6   uf              30 non-null     object\n",
      " 7   inscricao       30 non-null     int64 \n",
      " 8   descricao       30 non-null     object\n",
      " 9   quantidade      30 non-null     int64 \n",
      " 10  valor_unitario  30 non-null     int64 \n",
      " 11  total           30 non-null     int64 \n",
      "dtypes: int64(6), object(6)\n",
      "memory usage: 2.9+ KB\n"
     ]
    }
   ],
   "source": [
    "df_notas.info()"
   ]
  },
  {
   "cell_type": "code",
   "execution_count": 118,
   "metadata": {},
   "outputs": [
    {
     "data": {
      "text/plain": [
       "nome              0\n",
       "cnpj              0\n",
       "cep               0\n",
       "endereco          0\n",
       "bairro            0\n",
       "municipio         0\n",
       "uf                0\n",
       "inscricao         0\n",
       "descricao         0\n",
       "quantidade        0\n",
       "valor_unitario    0\n",
       "total             0\n",
       "dtype: int64"
      ]
     },
     "execution_count": 118,
     "metadata": {},
     "output_type": "execute_result"
    }
   ],
   "source": [
    "df_notas.isnull().sum()"
   ]
  },
  {
   "cell_type": "markdown",
   "metadata": {},
   "source": [
    "## Automação"
   ]
  },
  {
   "cell_type": "code",
   "execution_count": 119,
   "metadata": {},
   "outputs": [],
   "source": [
    "options = webdriver.ChromeOptions()\n",
    "options.add_experimental_option(\"prefs\", {\n",
    "  \"download.default_directory\": r\"C:\\Users\\luke\\downloads\",\n",
    "  \"download.prompt_for_download\": False,\n",
    "  \"download.directory_upgrade\": True,\n",
    "  \"safebrowsing.enabled\": True\n",
    "})\n",
    "\n",
    "service = Service(ChromeDriverManager().install())\n",
    "nav = webdriver.Chrome(service=service, options=options)"
   ]
  },
  {
   "cell_type": "code",
   "execution_count": 125,
   "metadata": {},
   "outputs": [],
   "source": [
    "# entrar na página de login\n",
    "caminho = os.getcwd()\n",
    "arquivo = caminho + r'\\\\login.html'\n",
    "nav.get(arquivo)"
   ]
  },
  {
   "cell_type": "code",
   "execution_count": 126,
   "metadata": {},
   "outputs": [],
   "source": [
    "# fazer login\n",
    "login = nav.find_element(By.XPATH, '/html/body/div/form/input[1]')\n",
    "login.send_keys('admin')\n",
    "senha = nav.find_element(By.XPATH, '/html/body/div/form/input[2]')\n",
    "senha.send_keys('admin')\n",
    "bt_login = nav.find_element(By.XPATH, '/html/body/div/form/button')\n",
    "bt_login.click()"
   ]
  },
  {
   "cell_type": "code",
   "execution_count": 127,
   "metadata": {},
   "outputs": [
    {
     "name": "stdout",
     "output_type": "stream",
     "text": [
      "nome                              Valentina Márcia Melissa da Cunha\n",
      "cnpj                                                    25379574076\n",
      "cep                                                        73402036\n",
      "endereco                                           Módulo Módulo 12\n",
      "bairro                       Estância Mestre D'Armas V (Planaltina)\n",
      "municipio                                                  Brasília\n",
      "uf                                                               DF\n",
      "inscricao                                                    213873\n",
      "descricao         Nota referente aos serviços prestados/produtos...\n",
      "quantidade                                                        3\n",
      "valor_unitario                                                  273\n",
      "total                                                           819\n",
      "Name: 0, dtype: object\n"
     ]
    }
   ],
   "source": [
    "for row in df_notas.iterrows():\n",
    "    print(row[1])\n",
    "    break"
   ]
  },
  {
   "cell_type": "code",
   "execution_count": 128,
   "metadata": {},
   "outputs": [
    {
     "name": "stdout",
     "output_type": "stream",
     "text": [
      "                                  nome         cnpj       cep  \\\n",
      "0    Valentina Márcia Melissa da Cunha  25379574076  73402036   \n",
      "1         Lara Benedita Josefa Drumond  30227643160  78730170   \n",
      "2               Silvana Melissa da Paz  36636402806  69308220   \n",
      "3          Pietro Diego César Monteiro  51701896486  60182541   \n",
      "4                  Tomás Gabriel Alves  59992546980  96830690   \n",
      "5                 Rodrigo Manoel Nunes  83916914545  60345640   \n",
      "6                   Lúcia Allana Pires  74029234607  68909823   \n",
      "7                  Kaique Lucca Mendes  72386991504  41340080   \n",
      "8       Guilherme Yago Manoel Teixeira  31373115190  40290635   \n",
      "9        Lavínia Clarice Luciana Silva  54617353127  73813530   \n",
      "10                Pietro Davi Silveira  81065601808  57061660   \n",
      "11         Thiago Tiago Renato Almeida  19491985108  78155160   \n",
      "12              Alice Gabrielly Galvão  35156879470  68928111   \n",
      "13               Mateus Vitor da Silva  11373151641  41290380   \n",
      "14        Luana Pietra Luciana Peixoto  79087727810  52051140   \n",
      "15                   Diogo Luan Novaes  26602467182  33822508   \n",
      "16     Emanuel Arthur Guilherme Almada  42907367188  81170646   \n",
      "17             Murilo César Nascimento  71419355414  59104267   \n",
      "18  Jennifer Vanessa Amanda dos Santos  49037173802  35900776   \n",
      "19           Márcio Diogo Cauã Freitas  72002560641  56316635   \n",
      "20                  Kauê Carlos Duarte  32488154695   4015012   \n",
      "21                Mateus Manoel Vieira  87420032610  67146037   \n",
      "22             Lúcia Lara Sueli Barros  67866395853  69902738   \n",
      "23             Isabella Heloise Moraes  51545705372  60767370   \n",
      "24       Manuela Hadassa Nair de Paula  78550813729  72270418   \n",
      "25  Gustavo Diego Gabriel da Conceição  92100026100  72320569   \n",
      "26              Sarah Alícia Fernandes  59408458435  78015245   \n",
      "27       Heitor Marcos Lucca das Neves  54121182677  72502607   \n",
      "28     Eduarda Malu Luciana Figueiredo  10266544088  37705032   \n",
      "29         Thiago Theo Alexandre Brito  45146212775  69151240   \n",
      "\n",
      "                                           endereco  \\\n",
      "0                                  Módulo Módulo 12   \n",
      "1                     Avenida Manoel de Araújo Piau   \n",
      "2                                    Rua Madre Rosa   \n",
      "3                                Rua Sousa Bandeira   \n",
      "4   Rua Capitão Francisco Cândido de Castro Menezes   \n",
      "5                           Travessa João Rodrigues   \n",
      "6                  Avenida Hermes Monteiro da Silva   \n",
      "7                               Caminho 20-Setor 02   \n",
      "8                              2ª Travessa da China   \n",
      "9                                       Travessa 13   \n",
      "10                                 Rua João Batista   \n",
      "11                                 Rua Paulo Afonso   \n",
      "12                                       Travessa I   \n",
      "13                           Travessa Santo Antônio   \n",
      "14                   Rua Treinador Cláudio Coutinho   \n",
      "15                                    Rua Existente   \n",
      "16                               Rua Osmar Lipinski   \n",
      "17               4ª Travessa Santo Inácio de Loyola   \n",
      "18                                            Rua B   \n",
      "19                              Avenida Frei Damião   \n",
      "20                               Rua Joaquim Távora   \n",
      "21                             Quadra Trinta e Sete   \n",
      "22                                        Rua Nobre   \n",
      "23                                            Rua F   \n",
      "24                         Quadra QNQ 4 Conjunto 18   \n",
      "25                         Quadra QN 414 Conjunto I   \n",
      "26                          Rua João Barbosa Farias   \n",
      "27                         Quadra QR 402 Conjunto G   \n",
      "28                             Rua Newton Romanelli   \n",
      "29                      Rua Marechal Castelo Branco   \n",
      "\n",
      "                                    bairro           municipio  uf  inscricao  \\\n",
      "0   Estância Mestre D'Armas V (Planaltina)            Brasília  DF     213873   \n",
      "1                     Jardim Belo Panorama        Rondonópolis  MT     194139   \n",
      "2                        Treze de Setembro           Boa Vista  RR     203703   \n",
      "3                            Antônio Diogo           Fortaleza  CE     326342   \n",
      "4                                  Aliança   Santa Cruz do Sul  RS     549783   \n",
      "5                               Vila Velha           Fortaleza  CE     554821   \n",
      "6                           Novo Horizonte              Macapá  AP     396745   \n",
      "7                               Cajazeiras            Salvador  BA     338595   \n",
      "8                          Acupe de Brotas            Salvador  BA     248303   \n",
      "9                               Formosinha             Formosa  GO     253537   \n",
      "10                    Tabuleiro do Martins              Maceió  AL     153307   \n",
      "11                              São Marcos       Várzea Grande  MT     213601   \n",
      "12                                 Paraíso             Santana  AP     534596   \n",
      "13                                  Pirajá            Salvador  BA     623260   \n",
      "14                             Tamarineira              Recife  PE     637467   \n",
      "15                                  Vereda  Ribeirão das Neves  MG     644472   \n",
      "16                       Cidade Industrial            Curitiba  PR     937283   \n",
      "17                                   Igapó               Natal  RN     480621   \n",
      "18                             Vila Salica             Itabira  MG     755781   \n",
      "19                            João de Deus           Petrolina  PE     653384   \n",
      "20                            Vila Mariana           São Paulo  SP     578486   \n",
      "21                                 Maguari          Ananindeua  PA     849023   \n",
      "22                            Chico Mendes          Rio Branco  AC     214145   \n",
      "23                                Mondubim           Fortaleza  CE     290348   \n",
      "24             Ceilândia Norte (Ceilândia)            Brasília  DF     191108   \n",
      "25             Samambaia Norte (Samambaia)            Brasília  DF     193798   \n",
      "26                              Dom Aquino              Cuiabá  MT     796878   \n",
      "27                             Santa Maria            Brasília  DF     723821   \n",
      "28                   Jardim das Hortênsias     Poços de Caldas  MG     312345   \n",
      "29                                  Centro           Parintins  AM     994124   \n",
      "\n",
      "                                            descricao  quantidade  \\\n",
      "0   Nota referente aos serviços prestados/produtos...           3   \n",
      "1   Nota referente aos serviços prestados/produtos...           6   \n",
      "2   Nota referente aos serviços prestados/produtos...           2   \n",
      "3   Nota referente aos serviços prestados/produtos...           2   \n",
      "4   Nota referente aos serviços prestados/produtos...           9   \n",
      "5   Nota referente aos serviços prestados/produtos...           6   \n",
      "6   Nota referente aos serviços prestados/produtos...           8   \n",
      "7   Nota referente aos serviços prestados/produtos...           5   \n",
      "8   Nota referente aos serviços prestados/produtos...           2   \n",
      "9   Nota referente aos serviços prestados/produtos...           4   \n",
      "10  Nota referente aos serviços prestados/produtos...           7   \n",
      "11  Nota referente aos serviços prestados/produtos...           3   \n",
      "12  Nota referente aos serviços prestados/produtos...           2   \n",
      "13  Nota referente aos serviços prestados/produtos...           5   \n",
      "14  Nota referente aos serviços prestados/produtos...          10   \n",
      "15  Nota referente aos serviços prestados/produtos...           4   \n",
      "16  Nota referente aos serviços prestados/produtos...           2   \n",
      "17  Nota referente aos serviços prestados/produtos...          10   \n",
      "18  Nota referente aos serviços prestados/produtos...           6   \n",
      "19  Nota referente aos serviços prestados/produtos...           1   \n",
      "20  Nota referente aos serviços prestados/produtos...           5   \n",
      "21  Nota referente aos serviços prestados/produtos...           8   \n",
      "22  Nota referente aos serviços prestados/produtos...           9   \n",
      "23  Nota referente aos serviços prestados/produtos...           6   \n",
      "24  Nota referente aos serviços prestados/produtos...           9   \n",
      "25  Nota referente aos serviços prestados/produtos...           2   \n",
      "26  Nota referente aos serviços prestados/produtos...           4   \n",
      "27  Nota referente aos serviços prestados/produtos...           7   \n",
      "28  Nota referente aos serviços prestados/produtos...           7   \n",
      "29  Nota referente aos serviços prestados/produtos...           1   \n",
      "\n",
      "    valor_unitario  total  \n",
      "0              273    819  \n",
      "1              730   4380  \n",
      "2              389    778  \n",
      "3              652   1304  \n",
      "4              533   4797  \n",
      "5              440   2640  \n",
      "6              466   3728  \n",
      "7              488   2440  \n",
      "8              725   1450  \n",
      "9              794   3176  \n",
      "10             420   2940  \n",
      "11             343   1029  \n",
      "12             976   1952  \n",
      "13             633   3165  \n",
      "14             141   1410  \n",
      "15             778   3112  \n",
      "16             784   1568  \n",
      "17             436   4360  \n",
      "18             679   4074  \n",
      "19             405    405  \n",
      "20             134    670  \n",
      "21             854   6832  \n",
      "22             212   1908  \n",
      "23             470   2820  \n",
      "24             912   8208  \n",
      "25             557   1114  \n",
      "26             951   3804  \n",
      "27             564   3948  \n",
      "28             937   6559  \n",
      "29             617    617  \n"
     ]
    }
   ],
   "source": [
    "print(df_notas)"
   ]
  },
  {
   "cell_type": "code",
   "execution_count": 138,
   "metadata": {},
   "outputs": [
    {
     "data": {
      "text/plain": [
       "''"
      ]
     },
     "execution_count": 138,
     "metadata": {},
     "output_type": "execute_result"
    }
   ],
   "source": [
    "x = nav.find_element(By.NAME, 'uf').get_attribute('value')\n",
    "x"
   ]
  },
  {
   "cell_type": "code",
   "execution_count": 143,
   "metadata": {},
   "outputs": [],
   "source": [
    "# preencher formularios\n",
    "register_btn = nav.find_element(By.XPATH, '//*[@id=\"formulario\"]/button')\n",
    "for index, row in df_notas.iterrows():\n",
    "    for col in df_notas.columns:\n",
    "        element = nav.find_element(By.NAME, col)\n",
    "        # time.sleep(0.5)\n",
    "        element.send_keys(row[col])\n",
    "\n",
    "    register_btn.click()\n",
    "    for col in df_notas.columns:\n",
    "        if col not in 'uf':\n",
    "            element = nav.find_element(By.NAME, col)\n",
    "            element.clear()\n",
    "\n",
    "    # time.sleep(2)\n"
   ]
  }
 ],
 "metadata": {
  "kernelspec": {
   "display_name": "Python 3",
   "language": "python",
   "name": "python3"
  },
  "language_info": {
   "codemirror_mode": {
    "name": "ipython",
    "version": 3
   },
   "file_extension": ".py",
   "mimetype": "text/x-python",
   "name": "python",
   "nbconvert_exporter": "python",
   "pygments_lexer": "ipython3",
   "version": "3.11.4"
  }
 },
 "nbformat": 4,
 "nbformat_minor": 2
}
